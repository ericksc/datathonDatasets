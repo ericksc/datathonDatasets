{
 "cells": [
  {
   "cell_type": "code",
   "execution_count": 1,
   "metadata": {},
   "outputs": [],
   "source": [
    "import pandas as pd\n",
    "import numpy as np"
   ]
  },
  {
   "cell_type": "markdown",
   "metadata": {},
   "source": [
    "# News Questions El universal"
   ]
  },
  {
   "cell_type": "markdown",
   "metadata": {},
   "source": [
    "### Read CSV"
   ]
  },
  {
   "cell_type": "code",
   "execution_count": 2,
   "metadata": {},
   "outputs": [
    {
     "data": {
      "text/html": [
       "<div>\n",
       "<style scoped>\n",
       "    .dataframe tbody tr th:only-of-type {\n",
       "        vertical-align: middle;\n",
       "    }\n",
       "\n",
       "    .dataframe tbody tr th {\n",
       "        vertical-align: top;\n",
       "    }\n",
       "\n",
       "    .dataframe thead th {\n",
       "        text-align: right;\n",
       "    }\n",
       "</style>\n",
       "<table border=\"1\" class=\"dataframe\">\n",
       "  <thead>\n",
       "    <tr style=\"text-align: right;\">\n",
       "      <th></th>\n",
       "      <th>body</th>\n",
       "      <th>title</th>\n",
       "      <th>url</th>\n",
       "    </tr>\n",
       "  </thead>\n",
       "  <tbody>\n",
       "    <tr>\n",
       "      <th>0</th>\n",
       "      <td>\\nLa procuradora Ernestina Godoy confirmó que ...</td>\n",
       "      <td>Matan a exdiputado de Tláhuac; investigan vínc...</td>\n",
       "      <td>http://www.eluniversal.com.mx/metropoli/cdmx/m...</td>\n",
       "    </tr>\n",
       "    <tr>\n",
       "      <th>1</th>\n",
       "      <td>NaN</td>\n",
       "      <td>NaN</td>\n",
       "      <td>http://www.eluniversal.com.mx/deportes/box</td>\n",
       "    </tr>\n",
       "    <tr>\n",
       "      <th>2</th>\n",
       "      <td>NaN</td>\n",
       "      <td>NaN</td>\n",
       "      <td>https://www.tangible-eluniversal.com.mx/en-ver...</td>\n",
       "    </tr>\n",
       "  </tbody>\n",
       "</table>\n",
       "</div>"
      ],
      "text/plain": [
       "                                                body  \\\n",
       "0  \\nLa procuradora Ernestina Godoy confirmó que ...   \n",
       "1                                                NaN   \n",
       "2                                                NaN   \n",
       "\n",
       "                                               title  \\\n",
       "0  Matan a exdiputado de Tláhuac; investigan vínc...   \n",
       "1                                                NaN   \n",
       "2                                                NaN   \n",
       "\n",
       "                                                 url  \n",
       "0  http://www.eluniversal.com.mx/metropoli/cdmx/m...  \n",
       "1         http://www.eluniversal.com.mx/deportes/box  \n",
       "2  https://www.tangible-eluniversal.com.mx/en-ver...  "
      ]
     },
     "execution_count": 2,
     "metadata": {},
     "output_type": "execute_result"
    }
   ],
   "source": [
    "news = pd.read_csv(r'https://raw.githubusercontent.com/andrsGutirrz/datathonDatasets/master/eluniversal_2019_06_07_articles.csv')\n",
    "news.head(3)"
   ]
  },
  {
   "cell_type": "markdown",
   "metadata": {},
   "source": [
    "### Add the news paper id"
   ]
  },
  {
   "cell_type": "code",
   "execution_count": 3,
   "metadata": {},
   "outputs": [
    {
     "data": {
      "text/html": [
       "<div>\n",
       "<style scoped>\n",
       "    .dataframe tbody tr th:only-of-type {\n",
       "        vertical-align: middle;\n",
       "    }\n",
       "\n",
       "    .dataframe tbody tr th {\n",
       "        vertical-align: top;\n",
       "    }\n",
       "\n",
       "    .dataframe thead th {\n",
       "        text-align: right;\n",
       "    }\n",
       "</style>\n",
       "<table border=\"1\" class=\"dataframe\">\n",
       "  <thead>\n",
       "    <tr style=\"text-align: right;\">\n",
       "      <th></th>\n",
       "      <th>body</th>\n",
       "      <th>title</th>\n",
       "      <th>url</th>\n",
       "      <th>newspaper_uid</th>\n",
       "    </tr>\n",
       "  </thead>\n",
       "  <tbody>\n",
       "    <tr>\n",
       "      <th>0</th>\n",
       "      <td>\\nLa procuradora Ernestina Godoy confirmó que ...</td>\n",
       "      <td>Matan a exdiputado de Tláhuac; investigan vínc...</td>\n",
       "      <td>http://www.eluniversal.com.mx/metropoli/cdmx/m...</td>\n",
       "      <td>eluniversal</td>\n",
       "    </tr>\n",
       "    <tr>\n",
       "      <th>1</th>\n",
       "      <td>NaN</td>\n",
       "      <td>NaN</td>\n",
       "      <td>http://www.eluniversal.com.mx/deportes/box</td>\n",
       "      <td>eluniversal</td>\n",
       "    </tr>\n",
       "    <tr>\n",
       "      <th>2</th>\n",
       "      <td>NaN</td>\n",
       "      <td>NaN</td>\n",
       "      <td>https://www.tangible-eluniversal.com.mx/en-ver...</td>\n",
       "      <td>eluniversal</td>\n",
       "    </tr>\n",
       "  </tbody>\n",
       "</table>\n",
       "</div>"
      ],
      "text/plain": [
       "                                                body  \\\n",
       "0  \\nLa procuradora Ernestina Godoy confirmó que ...   \n",
       "1                                                NaN   \n",
       "2                                                NaN   \n",
       "\n",
       "                                               title  \\\n",
       "0  Matan a exdiputado de Tláhuac; investigan vínc...   \n",
       "1                                                NaN   \n",
       "2                                                NaN   \n",
       "\n",
       "                                                 url newspaper_uid  \n",
       "0  http://www.eluniversal.com.mx/metropoli/cdmx/m...   eluniversal  \n",
       "1         http://www.eluniversal.com.mx/deportes/box   eluniversal  \n",
       "2  https://www.tangible-eluniversal.com.mx/en-ver...   eluniversal  "
      ]
     },
     "execution_count": 3,
     "metadata": {},
     "output_type": "execute_result"
    }
   ],
   "source": [
    "news['newspaper_uid'] = 'eluniversal'\n",
    "news.head(3)"
   ]
  },
  {
   "cell_type": "markdown",
   "metadata": {},
   "source": [
    "### Get the host of the url"
   ]
  },
  {
   "cell_type": "code",
   "execution_count": 4,
   "metadata": {},
   "outputs": [
    {
     "data": {
      "text/html": [
       "<div>\n",
       "<style scoped>\n",
       "    .dataframe tbody tr th:only-of-type {\n",
       "        vertical-align: middle;\n",
       "    }\n",
       "\n",
       "    .dataframe tbody tr th {\n",
       "        vertical-align: top;\n",
       "    }\n",
       "\n",
       "    .dataframe thead th {\n",
       "        text-align: right;\n",
       "    }\n",
       "</style>\n",
       "<table border=\"1\" class=\"dataframe\">\n",
       "  <thead>\n",
       "    <tr style=\"text-align: right;\">\n",
       "      <th></th>\n",
       "      <th>body</th>\n",
       "      <th>title</th>\n",
       "      <th>url</th>\n",
       "      <th>newspaper_uid</th>\n",
       "      <th>host</th>\n",
       "    </tr>\n",
       "  </thead>\n",
       "  <tbody>\n",
       "    <tr>\n",
       "      <th>0</th>\n",
       "      <td>\\nLa procuradora Ernestina Godoy confirmó que ...</td>\n",
       "      <td>Matan a exdiputado de Tláhuac; investigan vínc...</td>\n",
       "      <td>http://www.eluniversal.com.mx/metropoli/cdmx/m...</td>\n",
       "      <td>eluniversal</td>\n",
       "      <td>www.eluniversal.com.mx</td>\n",
       "    </tr>\n",
       "    <tr>\n",
       "      <th>1</th>\n",
       "      <td>NaN</td>\n",
       "      <td>NaN</td>\n",
       "      <td>http://www.eluniversal.com.mx/deportes/box</td>\n",
       "      <td>eluniversal</td>\n",
       "      <td>www.eluniversal.com.mx</td>\n",
       "    </tr>\n",
       "    <tr>\n",
       "      <th>2</th>\n",
       "      <td>NaN</td>\n",
       "      <td>NaN</td>\n",
       "      <td>https://www.tangible-eluniversal.com.mx/en-ver...</td>\n",
       "      <td>eluniversal</td>\n",
       "      <td>www.tangible-eluniversal.com.mx</td>\n",
       "    </tr>\n",
       "  </tbody>\n",
       "</table>\n",
       "</div>"
      ],
      "text/plain": [
       "                                                body  \\\n",
       "0  \\nLa procuradora Ernestina Godoy confirmó que ...   \n",
       "1                                                NaN   \n",
       "2                                                NaN   \n",
       "\n",
       "                                               title  \\\n",
       "0  Matan a exdiputado de Tláhuac; investigan vínc...   \n",
       "1                                                NaN   \n",
       "2                                                NaN   \n",
       "\n",
       "                                                 url newspaper_uid  \\\n",
       "0  http://www.eluniversal.com.mx/metropoli/cdmx/m...   eluniversal   \n",
       "1         http://www.eluniversal.com.mx/deportes/box   eluniversal   \n",
       "2  https://www.tangible-eluniversal.com.mx/en-ver...   eluniversal   \n",
       "\n",
       "                              host  \n",
       "0           www.eluniversal.com.mx  \n",
       "1           www.eluniversal.com.mx  \n",
       "2  www.tangible-eluniversal.com.mx  "
      ]
     },
     "execution_count": 4,
     "metadata": {},
     "output_type": "execute_result"
    }
   ],
   "source": [
    "# hint: use urllib.parse\n",
    "from urllib.parse import urlparse\n",
    "news['host'] = news['url'].apply(lambda url: urlparse(url).netloc)\n",
    "news.head(3)"
   ]
  },
  {
   "cell_type": "markdown",
   "metadata": {},
   "source": [
    "# QUESTIONS START"
   ]
  },
  {
   "cell_type": "markdown",
   "metadata": {},
   "source": [
    "### 1. Frecuencies for each host  ?\n",
    "return a pandas series. From most frequence to less frequence  \n",
    "  \n",
    "shape: (22,)  \n",
    "dtype: dtype('int64')\n"
   ]
  },
  {
   "cell_type": "code",
   "execution_count": null,
   "metadata": {},
   "outputs": [],
   "source": []
  },
  {
   "cell_type": "markdown",
   "metadata": {},
   "source": [
    "### 2. Fill in the nans of the 'title' column using 'url' column  ?\n",
    "In this dataset, there are two columns, 'title' and 'url'.\n",
    "There are some NaN records in title, but 'url' column can fill these blanks.\n",
    "The 'title' value is in 'url' value, is the text from last '/' character \n",
    "\n",
    "Additional: Replace '-' by ' ' and the title must by capitalized  \n",
    "\n",
    "Example: www.facebook.com/andres/gutierrez-arcia so, the title must be 'Gutierrez arcia'  \n",
    "\n",
    "shape: (199, 5)  \n",
    "dtypes:  \n",
    " body             object  \n",
    " title            object  \n",
    " url              object  \n",
    " newspaper_uid    object  \n",
    " host             object  \n",
    " dtype: object  \n"
   ]
  },
  {
   "cell_type": "code",
   "execution_count": null,
   "metadata": {},
   "outputs": [],
   "source": []
  }
 ],
 "metadata": {
  "kernelspec": {
   "display_name": "Python 3",
   "language": "python",
   "name": "python3"
  },
  "language_info": {
   "codemirror_mode": {
    "name": "ipython",
    "version": 3
   },
   "file_extension": ".py",
   "mimetype": "text/x-python",
   "name": "python",
   "nbconvert_exporter": "python",
   "pygments_lexer": "ipython3",
   "version": "3.7.4"
  }
 },
 "nbformat": 4,
 "nbformat_minor": 2
}
