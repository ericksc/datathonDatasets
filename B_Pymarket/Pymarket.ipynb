{
 "cells": [
  {
   "cell_type": "code",
   "execution_count": 1,
   "metadata": {},
   "outputs": [],
   "source": [
    "import pandas as pd\n",
    "import numpy as np"
   ]
  },
  {
   "cell_type": "markdown",
   "metadata": {},
   "source": [
    "# Read dataset"
   ]
  },
  {
   "cell_type": "code",
   "execution_count": 2,
   "metadata": {},
   "outputs": [
    {
     "data": {
      "text/html": [
       "<div>\n",
       "<style scoped>\n",
       "    .dataframe tbody tr th:only-of-type {\n",
       "        vertical-align: middle;\n",
       "    }\n",
       "\n",
       "    .dataframe tbody tr th {\n",
       "        vertical-align: top;\n",
       "    }\n",
       "\n",
       "    .dataframe thead th {\n",
       "        text-align: right;\n",
       "    }\n",
       "</style>\n",
       "<table border=\"1\" class=\"dataframe\">\n",
       "  <thead>\n",
       "    <tr style=\"text-align: right;\">\n",
       "      <th></th>\n",
       "      <th>dates</th>\n",
       "      <th>Tom</th>\n",
       "      <th>Joe</th>\n",
       "      <th>Charlie</th>\n",
       "    </tr>\n",
       "  </thead>\n",
       "  <tbody>\n",
       "    <tr>\n",
       "      <th>0</th>\n",
       "      <td>10/16/2016</td>\n",
       "      <td>131.10</td>\n",
       "      <td>18.78</td>\n",
       "      <td>210.34</td>\n",
       "    </tr>\n",
       "    <tr>\n",
       "      <th>1</th>\n",
       "      <td>10/17/2016</td>\n",
       "      <td>459.13</td>\n",
       "      <td>424.17</td>\n",
       "      <td>176.03</td>\n",
       "    </tr>\n",
       "    <tr>\n",
       "      <th>2</th>\n",
       "      <td>10/18/2016</td>\n",
       "      <td>338.39</td>\n",
       "      <td>376.78</td>\n",
       "      <td>334.06</td>\n",
       "    </tr>\n",
       "    <tr>\n",
       "      <th>3</th>\n",
       "      <td>10/19/2016</td>\n",
       "      <td>361.32</td>\n",
       "      <td>349.26</td>\n",
       "      <td>456.03</td>\n",
       "    </tr>\n",
       "    <tr>\n",
       "      <th>4</th>\n",
       "      <td>10/20/2016</td>\n",
       "      <td>25.39</td>\n",
       "      <td>434.77</td>\n",
       "      <td>462.00</td>\n",
       "    </tr>\n",
       "  </tbody>\n",
       "</table>\n",
       "</div>"
      ],
      "text/plain": [
       "        dates     Tom     Joe  Charlie\n",
       "0  10/16/2016  131.10   18.78   210.34\n",
       "1  10/17/2016  459.13  424.17   176.03\n",
       "2  10/18/2016  338.39  376.78   334.06\n",
       "3  10/19/2016  361.32  349.26   456.03\n",
       "4  10/20/2016   25.39  434.77   462.00"
      ]
     },
     "execution_count": 2,
     "metadata": {},
     "output_type": "execute_result"
    }
   ],
   "source": [
    "pymarket = pd.read_csv('https://raw.githubusercontent.com/andrsGutirrz/datathonDatasets/master/pymarket.csv')\n",
    "pymarket.head()"
   ]
  },
  {
   "cell_type": "markdown",
   "metadata": {},
   "source": [
    "### 1) How much Tom has spent in Pymarket?\n",
    "return a numeric value  "
   ]
  },
  {
   "cell_type": "code",
   "execution_count": null,
   "metadata": {},
   "outputs": [],
   "source": []
  },
  {
   "cell_type": "markdown",
   "metadata": {},
   "source": [
    "### 2) Total and mean of Tom and Joe expenses  ?\n",
    "return a dataframe  \n",
    "shape: (2, 2)    \n",
    "Index: (['sum', 'mean'], dtype='object')  \n",
    "Columns:( ['Tom', 'Joe'], dtype='object')"
   ]
  },
  {
   "cell_type": "code",
   "execution_count": null,
   "metadata": {},
   "outputs": [],
   "source": []
  },
  {
   "cell_type": "markdown",
   "metadata": {},
   "source": [
    "### 3) Which are the days in which the friends spend more than $100 together  ?\n",
    "return series of dates from oldest to newest  \n",
    "shape: (931,)  \n",
    "dates in string type"
   ]
  },
  {
   "cell_type": "code",
   "execution_count": null,
   "metadata": {},
   "outputs": [],
   "source": []
  },
  {
   "cell_type": "markdown",
   "metadata": {},
   "source": [
    "### 4) Which are the days in which the friends didnt go to the market, any of them\n",
    "return list of string of dates from oldest to newest  \n",
    "len: 42"
   ]
  },
  {
   "cell_type": "code",
   "execution_count": null,
   "metadata": {},
   "outputs": [],
   "source": []
  },
  {
   "cell_type": "markdown",
   "metadata": {},
   "source": [
    "### 5) Who spent more than the others and who spent less (Whole records)\n",
    "return tuple of the names (Who spend more,   Who spend less)"
   ]
  },
  {
   "cell_type": "code",
   "execution_count": null,
   "metadata": {},
   "outputs": [],
   "source": []
  },
  {
   "cell_type": "markdown",
   "metadata": {},
   "source": [
    "### 6) Who was the guy that visit the market more frecuently ?\n",
    "return the name (string)"
   ]
  },
  {
   "cell_type": "code",
   "execution_count": null,
   "metadata": {},
   "outputs": [],
   "source": []
  },
  {
   "cell_type": "markdown",
   "metadata": {},
   "source": [
    "### 7) On average, who spent  more every bi-weekly?\n",
    "return a name (str)"
   ]
  },
  {
   "cell_type": "code",
   "execution_count": null,
   "metadata": {},
   "outputs": [],
   "source": []
  },
  {
   "cell_type": "markdown",
   "metadata": {},
   "source": [
    "### 8) Which are the dates in which each friend spent less than $10  ?\n",
    "returns a list of dates from oldest to newest  \n",
    "len: 21"
   ]
  },
  {
   "cell_type": "code",
   "execution_count": 14,
   "metadata": {},
   "outputs": [],
   "source": []
  },
  {
   "cell_type": "markdown",
   "metadata": {},
   "source": [
    "### 9) Create a new column called 'Tips' and calculate the total amount payed by tips for all friends ?\n",
    "Our friends usually pay tips to the market. The value of tip is the value that rounds (ceil) the total cost by person.\n",
    "Example, if Tom pays \\\\$8.3, then the tip will be \\\\$0.7  \n",
    "Return a dataframe with an additional 'Tips' column  \n",
    "shape: (1000, 5)  \n",
    "index: RangeIndex(start=0, stop=1000, step=1)  \n",
    "Columns: (['dates', 'Tom', 'Joe', 'Charlie', 'Tips']"
   ]
  },
  {
   "cell_type": "code",
   "execution_count": null,
   "metadata": {},
   "outputs": [],
   "source": []
  },
  {
   "cell_type": "markdown",
   "metadata": {},
   "source": [
    "### 10)  Find out how much Tom and Charlie could have saved in total if the discount system were available when they started buying at Pymarket ?\n",
    "The Pymarket  has decided to implement discounts system. Now for each purchase someone made in which spend more than $ 100, that person will receive a 7% discount  \n",
    "return tuple of *ints* of the save amount of money (Tom,Charlie)\n",
    "\n"
   ]
  },
  {
   "cell_type": "code",
   "execution_count": null,
   "metadata": {},
   "outputs": [],
   "source": []
  }
 ],
 "metadata": {
  "kernelspec": {
   "display_name": "Python 3",
   "language": "python",
   "name": "python3"
  },
  "language_info": {
   "codemirror_mode": {
    "name": "ipython",
    "version": 3
   },
   "file_extension": ".py",
   "mimetype": "text/x-python",
   "name": "python",
   "nbconvert_exporter": "python",
   "pygments_lexer": "ipython3",
   "version": "3.7.4"
  }
 },
 "nbformat": 4,
 "nbformat_minor": 2
}
