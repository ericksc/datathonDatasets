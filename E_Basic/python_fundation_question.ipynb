{
 "cells": [
  {
   "cell_type": "markdown",
   "metadata": {},
   "source": [
    "## 1 ) Question #\n",
    "Defined a dataset as a list of tuples as the following.\n",
    "Create a Python code which return a simple list containing the name, position and salary of each person on the list like this:\n",
    "['Sue', 'boss', 8000, 'John', 'dev', 6500, 'Jessie', 'admin', 5000, 'Julie', 'facilities', 3000]\n",
    "\n",
    "Expected result: a list"
   ]
  },
  {
   "cell_type": "code",
   "execution_count": null,
   "metadata": {},
   "outputs": [],
   "source": []
  },
  {
   "cell_type": "markdown",
   "metadata": {},
   "source": [
    "## 2) Question #\n",
    "Defined a dataset as a list of tuples as the following.\n",
    "Create a Python code which return a simple list containing the salary, position and name of each person on the list like this:\n",
    "[8000, 'boss', 'Sue', 6500, 'dev', 'John', 5000, 'admin', 'Jessie', 3000, 'facilities', 'Julie']\n",
    "\n",
    "Expected result: a list"
   ]
  },
  {
   "cell_type": "code",
   "execution_count": null,
   "metadata": {},
   "outputs": [],
   "source": []
  },
  {
   "cell_type": "markdown",
   "metadata": {},
   "source": [
    "## 3) Question #\n",
    "Defined a dataset as a list of tuples as the following.\n",
    "Create a Python code which return a simple dictonary containing the name as the key and the salary as value each person on the list like this:\n",
    "{'Sue': 8000, 'John': 6500, 'Jessie': 5000, 'Julie': 3000}\n",
    "\n",
    "Expected result: a dictionary"
   ]
  },
  {
   "cell_type": "code",
   "execution_count": null,
   "metadata": {},
   "outputs": [],
   "source": []
  },
  {
   "cell_type": "markdown",
   "metadata": {},
   "source": [
    "## 4) Question #\n",
    "Defined a dataset as a list of tuples as the following.\n",
    "Create a Python code which return a simple dictonary containing the name as the key and the salary as value each person on the list like this:\n",
    "{'Sue': 8000, 'John': 6500, 'Jessie': 5000, 'Julie': 3000} and applying a salary raise of 1000 to each person.\n",
    "\n",
    "Expected result: a dictionary"
   ]
  },
  {
   "cell_type": "code",
   "execution_count": null,
   "metadata": {},
   "outputs": [],
   "source": []
  },
  {
   "cell_type": "markdown",
   "metadata": {},
   "source": [
    "## 5) Question #\n",
    "Defined a dataset as a list of tuples as the following.\n",
    "Create a Python code which return this list sorted by salary starting with the lowerest to the highest\n",
    "\n",
    "Expected result: a list of tuples."
   ]
  },
  {
   "cell_type": "code",
   "execution_count": null,
   "metadata": {},
   "outputs": [],
   "source": []
  },
  {
   "cell_type": "code",
   "execution_count": null,
   "metadata": {},
   "outputs": [],
   "source": []
  }
 ],
 "metadata": {
  "kernelspec": {
   "display_name": "Python 3",
   "language": "python",
   "name": "python3"
  },
  "language_info": {
   "codemirror_mode": {
    "name": "ipython",
    "version": 3
   },
   "file_extension": ".py",
   "mimetype": "text/x-python",
   "name": "python",
   "nbconvert_exporter": "python",
   "pygments_lexer": "ipython3",
   "version": "3.7.4"
  }
 },
 "nbformat": 4,
 "nbformat_minor": 2
}
